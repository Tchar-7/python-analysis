{
 "cells": [
  {
   "cell_type": "markdown",
   "metadata": {},
   "source": [
    "# 包导入"
   ]
  },
  {
   "cell_type": "code",
   "execution_count": 61,
   "metadata": {},
   "outputs": [],
   "source": [
    "import numpy as np\n",
    "import pandas as pd\n",
    "from matplotlib import pyplot as plt\n",
    "import seaborn as sns\n",
    "from sklearn import metrics\n",
    "import warnings\n",
    "warnings.filterwarnings(\"ignore\")"
   ]
  },
  {
   "cell_type": "markdown",
   "metadata": {},
   "source": [
    "# 数据导入"
   ]
  },
  {
   "cell_type": "code",
   "execution_count": 62,
   "metadata": {},
   "outputs": [
    {
     "name": "stdout",
     "output_type": "stream",
     "text": [
      "护石:\n",
      "   等级      一技能  Lv    二技能  Lv1   孔  value\n",
      "0   7  火属性攻击强化   1     不屈  1.0  21      2\n",
      "1   6     昏厥耐性   2    击晕术  1.0  11      3\n",
      "2   5      植生学   1  毒属性强化  2.0  11      1\n",
      "3   6     风压耐性   1    击晕术  1.0  11      1\n",
      "4   7       逆袭   2     利刃  1.0   1      4\n",
      "基本信息: \n",
      "<class 'pandas.core.frame.DataFrame'>\n",
      "RangeIndex: 1499 entries, 0 to 1498\n",
      "Data columns (total 7 columns):\n",
      " #   Column  Non-Null Count  Dtype  \n",
      "---  ------  --------------  -----  \n",
      " 0   等级      1499 non-null   int64  \n",
      " 1   一技能     1499 non-null   object \n",
      " 2   Lv      1499 non-null   int64  \n",
      " 3   二技能     1341 non-null   object \n",
      " 4   Lv1     1341 non-null   float64\n",
      " 5   孔       1499 non-null   int64  \n",
      " 6   value   1499 non-null   int64  \n",
      "dtypes: float64(1), int64(4), object(2)\n",
      "memory usage: 82.1+ KB\n",
      "None\n"
     ]
    }
   ],
   "source": [
    "stone  = pd.read_excel(\"半监督.xlsx\")\n",
    "print(\"护石:\")\n",
    "print(stone.head())\n",
    "print(\"基本信息: \")\n",
    "print(stone.info())"
   ]
  },
  {
   "cell_type": "code",
   "execution_count": 63,
   "metadata": {},
   "outputs": [
    {
     "name": "stdout",
     "output_type": "stream",
     "text": [
      "技能:\n",
      "  LookUpName  MaxLevel  ActualLevel1  ActualLevel2\n",
      "0         攻击         7             3             2\n",
      "1        挑战者         5             3             2\n",
      "2         无伤         3             2             2\n",
      "3         怨恨         5             3             2\n",
      "4       死里逃生         3             2             2\n",
      "<class 'pandas.core.frame.DataFrame'>\n",
      "RangeIndex: 112 entries, 0 to 111\n",
      "Data columns (total 4 columns):\n",
      " #   Column        Non-Null Count  Dtype \n",
      "---  ------        --------------  ----- \n",
      " 0   LookUpName    112 non-null    object\n",
      " 1   MaxLevel      112 non-null    int64 \n",
      " 2   ActualLevel1  112 non-null    int64 \n",
      " 3   ActualLevel2  112 non-null    int64 \n",
      "dtypes: int64(3), object(1)\n",
      "memory usage: 3.6+ KB\n",
      "None\n"
     ]
    }
   ],
   "source": [
    "skill = pd.read_excel(\"skill.xlsx\")\n",
    "print(\"技能:\")\n",
    "print(skill.head())\n",
    "print(skill.info())"
   ]
  },
  {
   "cell_type": "markdown",
   "metadata": {},
   "source": [
    "# 数据预处理"
   ]
  },
  {
   "cell_type": "code",
   "execution_count": 64,
   "metadata": {},
   "outputs": [
    {
     "data": {
      "text/html": [
       "<div>\n",
       "<style scoped>\n",
       "    .dataframe tbody tr th:only-of-type {\n",
       "        vertical-align: middle;\n",
       "    }\n",
       "\n",
       "    .dataframe tbody tr th {\n",
       "        vertical-align: top;\n",
       "    }\n",
       "\n",
       "    .dataframe thead th {\n",
       "        text-align: right;\n",
       "    }\n",
       "</style>\n",
       "<table border=\"1\" class=\"dataframe\">\n",
       "  <thead>\n",
       "    <tr style=\"text-align: right;\">\n",
       "      <th></th>\n",
       "      <th>等级</th>\n",
       "      <th>一技能</th>\n",
       "      <th>Lv</th>\n",
       "      <th>二技能</th>\n",
       "      <th>Lv1</th>\n",
       "      <th>孔</th>\n",
       "      <th>value</th>\n",
       "    </tr>\n",
       "  </thead>\n",
       "  <tbody>\n",
       "    <tr>\n",
       "      <th>0</th>\n",
       "      <td>7</td>\n",
       "      <td>13</td>\n",
       "      <td>1</td>\n",
       "      <td>92</td>\n",
       "      <td>1.0</td>\n",
       "      <td>21</td>\n",
       "      <td>2</td>\n",
       "    </tr>\n",
       "    <tr>\n",
       "      <th>1</th>\n",
       "      <td>6</td>\n",
       "      <td>76</td>\n",
       "      <td>2</td>\n",
       "      <td>41</td>\n",
       "      <td>1.0</td>\n",
       "      <td>11</td>\n",
       "      <td>3</td>\n",
       "    </tr>\n",
       "    <tr>\n",
       "      <th>2</th>\n",
       "      <td>5</td>\n",
       "      <td>79</td>\n",
       "      <td>1</td>\n",
       "      <td>18</td>\n",
       "      <td>2.0</td>\n",
       "      <td>11</td>\n",
       "      <td>1</td>\n",
       "    </tr>\n",
       "    <tr>\n",
       "      <th>3</th>\n",
       "      <td>6</td>\n",
       "      <td>62</td>\n",
       "      <td>1</td>\n",
       "      <td>41</td>\n",
       "      <td>1.0</td>\n",
       "      <td>11</td>\n",
       "      <td>1</td>\n",
       "    </tr>\n",
       "    <tr>\n",
       "      <th>4</th>\n",
       "      <td>7</td>\n",
       "      <td>106</td>\n",
       "      <td>2</td>\n",
       "      <td>23</td>\n",
       "      <td>1.0</td>\n",
       "      <td>1</td>\n",
       "      <td>4</td>\n",
       "    </tr>\n",
       "    <tr>\n",
       "      <th>5</th>\n",
       "      <td>4</td>\n",
       "      <td>40</td>\n",
       "      <td>3</td>\n",
       "      <td>16</td>\n",
       "      <td>1.0</td>\n",
       "      <td>0</td>\n",
       "      <td>4</td>\n",
       "    </tr>\n",
       "    <tr>\n",
       "      <th>6</th>\n",
       "      <td>6</td>\n",
       "      <td>67</td>\n",
       "      <td>2</td>\n",
       "      <td>69</td>\n",
       "      <td>1.0</td>\n",
       "      <td>21</td>\n",
       "      <td>1</td>\n",
       "    </tr>\n",
       "    <tr>\n",
       "      <th>7</th>\n",
       "      <td>5</td>\n",
       "      <td>70</td>\n",
       "      <td>1</td>\n",
       "      <td>13</td>\n",
       "      <td>2.0</td>\n",
       "      <td>11</td>\n",
       "      <td>2</td>\n",
       "    </tr>\n",
       "    <tr>\n",
       "      <th>8</th>\n",
       "      <td>5</td>\n",
       "      <td>18</td>\n",
       "      <td>2</td>\n",
       "      <td>53</td>\n",
       "      <td>1.0</td>\n",
       "      <td>1</td>\n",
       "      <td>1</td>\n",
       "    </tr>\n",
       "    <tr>\n",
       "      <th>9</th>\n",
       "      <td>7</td>\n",
       "      <td>76</td>\n",
       "      <td>1</td>\n",
       "      <td>62</td>\n",
       "      <td>1.0</td>\n",
       "      <td>21</td>\n",
       "      <td>2</td>\n",
       "    </tr>\n",
       "  </tbody>\n",
       "</table>\n",
       "</div>"
      ],
      "text/plain": [
       "   等级  一技能  Lv  二技能  Lv1   孔  value\n",
       "0   7   13   1   92  1.0  21      2\n",
       "1   6   76   2   41  1.0  11      3\n",
       "2   5   79   1   18  2.0  11      1\n",
       "3   6   62   1   41  1.0  11      1\n",
       "4   7  106   2   23  1.0   1      4\n",
       "5   4   40   3   16  1.0   0      4\n",
       "6   6   67   2   69  1.0  21      1\n",
       "7   5   70   1   13  2.0  11      2\n",
       "8   5   18   2   53  1.0   1      1\n",
       "9   7   76   1   62  1.0  21      2"
      ]
     },
     "execution_count": 64,
     "metadata": {},
     "output_type": "execute_result"
    }
   ],
   "source": [
    "# 处理缺失值\n",
    "stone.fillna({\"二技能\":\"无\",\"Lv.1\":0},inplace=True)\n",
    "\n",
    "#处理技能,将技能名称用数字替换\n",
    "skillArray = skill[\"LookUpName\"].values\n",
    "stone['一技能'].replace(skillArray,list(range(1,113)),inplace=True)\n",
    "stone['二技能'].replace(skillArray,list(range(1,113)),inplace=True)\n",
    "stone.head(10)"
   ]
  },
  {
   "cell_type": "code",
   "execution_count": 65,
   "metadata": {},
   "outputs": [
    {
     "data": {
      "text/html": [
       "<div>\n",
       "<style scoped>\n",
       "    .dataframe tbody tr th:only-of-type {\n",
       "        vertical-align: middle;\n",
       "    }\n",
       "\n",
       "    .dataframe tbody tr th {\n",
       "        vertical-align: top;\n",
       "    }\n",
       "\n",
       "    .dataframe thead th {\n",
       "        text-align: right;\n",
       "    }\n",
       "</style>\n",
       "<table border=\"1\" class=\"dataframe\">\n",
       "  <thead>\n",
       "    <tr style=\"text-align: right;\">\n",
       "      <th></th>\n",
       "      <th>等级</th>\n",
       "      <th>一技能</th>\n",
       "      <th>Lv</th>\n",
       "      <th>二技能</th>\n",
       "      <th>Lv1</th>\n",
       "      <th>孔</th>\n",
       "      <th>value</th>\n",
       "      <th>temp</th>\n",
       "    </tr>\n",
       "  </thead>\n",
       "  <tbody>\n",
       "    <tr>\n",
       "      <th>0</th>\n",
       "      <td>7</td>\n",
       "      <td>13</td>\n",
       "      <td>1</td>\n",
       "      <td>92</td>\n",
       "      <td>1.0</td>\n",
       "      <td>21</td>\n",
       "      <td>2</td>\n",
       "      <td>-1.848808</td>\n",
       "    </tr>\n",
       "    <tr>\n",
       "      <th>1</th>\n",
       "      <td>6</td>\n",
       "      <td>76</td>\n",
       "      <td>2</td>\n",
       "      <td>41</td>\n",
       "      <td>1.0</td>\n",
       "      <td>11</td>\n",
       "      <td>3</td>\n",
       "      <td>1.505373</td>\n",
       "    </tr>\n",
       "    <tr>\n",
       "      <th>2</th>\n",
       "      <td>5</td>\n",
       "      <td>79</td>\n",
       "      <td>1</td>\n",
       "      <td>18</td>\n",
       "      <td>2.0</td>\n",
       "      <td>11</td>\n",
       "      <td>1</td>\n",
       "      <td>-0.289074</td>\n",
       "    </tr>\n",
       "    <tr>\n",
       "      <th>3</th>\n",
       "      <td>6</td>\n",
       "      <td>62</td>\n",
       "      <td>1</td>\n",
       "      <td>41</td>\n",
       "      <td>1.0</td>\n",
       "      <td>11</td>\n",
       "      <td>1</td>\n",
       "      <td>-0.690824</td>\n",
       "    </tr>\n",
       "    <tr>\n",
       "      <th>4</th>\n",
       "      <td>7</td>\n",
       "      <td>106</td>\n",
       "      <td>2</td>\n",
       "      <td>23</td>\n",
       "      <td>1.0</td>\n",
       "      <td>1</td>\n",
       "      <td>4</td>\n",
       "      <td>2.214343</td>\n",
       "    </tr>\n",
       "    <tr>\n",
       "      <th>...</th>\n",
       "      <td>...</td>\n",
       "      <td>...</td>\n",
       "      <td>...</td>\n",
       "      <td>...</td>\n",
       "      <td>...</td>\n",
       "      <td>...</td>\n",
       "      <td>...</td>\n",
       "      <td>...</td>\n",
       "    </tr>\n",
       "    <tr>\n",
       "      <th>1494</th>\n",
       "      <td>5</td>\n",
       "      <td>60</td>\n",
       "      <td>1</td>\n",
       "      <td>58</td>\n",
       "      <td>1.0</td>\n",
       "      <td>11</td>\n",
       "      <td>1</td>\n",
       "      <td>-0.738088</td>\n",
       "    </tr>\n",
       "    <tr>\n",
       "      <th>1495</th>\n",
       "      <td>5</td>\n",
       "      <td>46</td>\n",
       "      <td>1</td>\n",
       "      <td>112</td>\n",
       "      <td>NaN</td>\n",
       "      <td>0</td>\n",
       "      <td>1</td>\n",
       "      <td>-1.068941</td>\n",
       "    </tr>\n",
       "    <tr>\n",
       "      <th>1496</th>\n",
       "      <td>7</td>\n",
       "      <td>85</td>\n",
       "      <td>1</td>\n",
       "      <td>52</td>\n",
       "      <td>1.0</td>\n",
       "      <td>31</td>\n",
       "      <td>2</td>\n",
       "      <td>-0.147280</td>\n",
       "    </tr>\n",
       "    <tr>\n",
       "      <th>1497</th>\n",
       "      <td>4</td>\n",
       "      <td>104</td>\n",
       "      <td>2</td>\n",
       "      <td>89</td>\n",
       "      <td>1.0</td>\n",
       "      <td>1</td>\n",
       "      <td>1</td>\n",
       "      <td>2.167078</td>\n",
       "    </tr>\n",
       "    <tr>\n",
       "      <th>1498</th>\n",
       "      <td>4</td>\n",
       "      <td>16</td>\n",
       "      <td>3</td>\n",
       "      <td>65</td>\n",
       "      <td>1.0</td>\n",
       "      <td>0</td>\n",
       "      <td>1</td>\n",
       "      <td>1.952777</td>\n",
       "    </tr>\n",
       "  </tbody>\n",
       "</table>\n",
       "<p>1499 rows × 8 columns</p>\n",
       "</div>"
      ],
      "text/plain": [
       "      等级  一技能  Lv  二技能  Lv1   孔  value      temp\n",
       "0      7   13   1   92  1.0  21      2 -1.848808\n",
       "1      6   76   2   41  1.0  11      3  1.505373\n",
       "2      5   79   1   18  2.0  11      1 -0.289074\n",
       "3      6   62   1   41  1.0  11      1 -0.690824\n",
       "4      7  106   2   23  1.0   1      4  2.214343\n",
       "...   ..  ...  ..  ...  ...  ..    ...       ...\n",
       "1494   5   60   1   58  1.0  11      1 -0.738088\n",
       "1495   5   46   1  112  NaN   0      1 -1.068941\n",
       "1496   7   85   1   52  1.0  31      2 -0.147280\n",
       "1497   4  104   2   89  1.0   1      1  2.167078\n",
       "1498   4   16   3   65  1.0   0      1  1.952777\n",
       "\n",
       "[1499 rows x 8 columns]"
      ]
     },
     "execution_count": 65,
     "metadata": {},
     "output_type": "execute_result"
    }
   ],
   "source": [
    "from sklearn.discriminant_analysis import LinearDiscriminantAnalysis as LDA\n",
    "from sklearn.decomposition import PCA\n",
    "lda = LDA(n_components=1)\n",
    "pca = PCA(n_components=1)\n",
    "skill1=stone[['一技能','Lv']]\n",
    "re_1=lda.fit_transform(skill1,stone['一技能'])\n",
    "skill2=stone[['二技能','Lv1']]\n",
    "re_2=lda.fit_transform(skill1,stone['二技能'])\n",
    "skill=np.concatenate((re_1,re_2),axis=1)\n",
    "re_skill=pca.fit_transform(skill)\n",
    "df=pd.concat((stone,pd.DataFrame(re_skill,columns=['temp'])),axis = 1)\n",
    "stone=df\n",
    "stone"
   ]
  },
  {
   "cell_type": "markdown",
   "metadata": {},
   "source": [
    "# 数据分析"
   ]
  },
  {
   "cell_type": "markdown",
   "metadata": {},
   "source": [
    "查看可用护石的占比"
   ]
  },
  {
   "cell_type": "code",
   "execution_count": 66,
   "metadata": {},
   "outputs": [
    {
     "data": {
      "image/png": "[encoded data removed]",
      "text/plain": [
       "<Figure size 1080x576 with 2 Axes>"
      ]
     },
     "metadata": {
      "needs_background": "light"
     },
     "output_type": "display_data"
    }
   ],
   "source": [
    "plt.rcParams['font.sans-serif']=['SimHei']\n",
    "plt.rcParams['axes.unicode_minus'] = False\n",
    "\n",
    "font1 = {'family' : 'Times New Roman',\n",
    "'weight' : 'normal',\n",
    "'size' : 15,\n",
    "}\n",
    "\n",
    "fig,ax=plt.subplots(1,2,figsize=(15,8))\n",
    "stone['value'].value_counts().plot.pie(ax=ax[0],shadow=True,autopct='%.2f%%')\n",
    "ax[0].set_ylabel('')\n",
    "ax[0].set_xlabel('value',font1)\n",
    "\n",
    "stone['value'].value_counts().plot.bar(ax=ax[1])\n",
    "ax[1].set_ylabel('number',font1)\n",
    "ax[1].set_xlabel('value',font1)\n",
    "#设置相关信息\n",
    "plt.xticks(fontsize=15,rotation=0)\n",
    "plt.yticks(fontsize=15)\n",
    "plt.tight_layout()\n",
    "plt.show()"
   ]
  },
  {
   "cell_type": "markdown",
   "metadata": {},
   "source": [
    "等级与value的关系"
   ]
  },
  {
   "cell_type": "code",
   "execution_count": 67,
   "metadata": {},
   "outputs": [
    {
     "name": "stdout",
     "output_type": "stream",
     "text": [
      "7    476\n",
      "5    421\n",
      "6    326\n",
      "4    194\n",
      "3     82\n",
      "Name: 等级, dtype: int64\n"
     ]
    },
    {
     "data": {
      "image/png": "[encoded data removed]",
      "text/plain": [
       "<Figure size 432x288 with 1 Axes>"
      ]
     },
     "metadata": {
      "needs_background": "light"
     },
     "output_type": "display_data"
    }
   ],
   "source": [
    "#每种等级的数量\n",
    "lv_value = stone[\"等级\"].value_counts()\n",
    "print(lv_value)\n",
    "plt.bar(stone[\"等级\"].unique(),lv_value)\n",
    "plt.xlabel(\"等级\")\n",
    "plt.ylabel(\"数量\")\n",
    "plt.title(\"每个等级的护石数量\")\n",
    "plt.show()"
   ]
  },
  {
   "cell_type": "code",
   "execution_count": 68,
   "metadata": {},
   "outputs": [
    {
     "name": "stdout",
     "output_type": "stream",
     "text": [
      "等级\n",
      "7    872\n",
      "6    438\n",
      "5    480\n",
      "4    227\n",
      "3     86\n",
      "Name: value, dtype: int64\n"
     ]
    },
    {
     "data": {
      "image/png": "[encoded data removed]",
      "text/plain": [
       "<Figure size 432x288 with 1 Axes>"
      ]
     },
     "metadata": {
      "needs_background": "light"
     },
     "output_type": "display_data"
    }
   ],
   "source": [
    "#每种等级中value为1的数量\n",
    "lv_value2 = stone.groupby('等级')[\"value\"].sum().iloc[::-1]\n",
    "print(lv_value2)\n",
    "#绘制\n",
    "plt.bar(stone[\"等级\"].unique(),lv_value2)\n",
    "plt.xlabel(\"等级\")\n",
    "plt.ylabel(\"数量\")\n",
    "plt.title(\"每个等级中value为1的护石数量\")\n",
    "plt.show()"
   ]
  },
  {
   "cell_type": "code",
   "execution_count": 69,
   "metadata": {},
   "outputs": [
    {
     "data": {
      "text/plain": [
       "3    1.048780\n",
       "4    1.170103\n",
       "5    1.140143\n",
       "6    1.343558\n",
       "7    1.831933\n",
       "dtype: float64"
      ]
     },
     "execution_count": 69,
     "metadata": {},
     "output_type": "execute_result"
    }
   ],
   "source": [
    "#比较每个等级中value为1的占比\n",
    "temp= lv_value2 / lv_value\n",
    "temp"
   ]
  },
  {
   "cell_type": "markdown",
   "metadata": {},
   "source": [
    "value与技能的关系"
   ]
  },
  {
   "cell_type": "code",
   "execution_count": 70,
   "metadata": {},
   "outputs": [
    {
     "data": {
      "text/html": [
       "<div>\n",
       "<style scoped>\n",
       "    .dataframe tbody tr th:only-of-type {\n",
       "        vertical-align: middle;\n",
       "    }\n",
       "\n",
       "    .dataframe tbody tr th {\n",
       "        vertical-align: top;\n",
       "    }\n",
       "\n",
       "    .dataframe thead th {\n",
       "        text-align: right;\n",
       "    }\n",
       "</style>\n",
       "<table border=\"1\" class=\"dataframe\">\n",
       "  <thead>\n",
       "    <tr style=\"text-align: right;\">\n",
       "      <th></th>\n",
       "      <th>一技能</th>\n",
       "    </tr>\n",
       "  </thead>\n",
       "  <tbody>\n",
       "    <tr>\n",
       "      <th>count</th>\n",
       "      <td>1499.000000</td>\n",
       "    </tr>\n",
       "    <tr>\n",
       "      <th>mean</th>\n",
       "      <td>57.216144</td>\n",
       "    </tr>\n",
       "    <tr>\n",
       "      <th>std</th>\n",
       "      <td>29.227481</td>\n",
       "    </tr>\n",
       "    <tr>\n",
       "      <th>min</th>\n",
       "      <td>1.000000</td>\n",
       "    </tr>\n",
       "    <tr>\n",
       "      <th>25%</th>\n",
       "      <td>35.000000</td>\n",
       "    </tr>\n",
       "    <tr>\n",
       "      <th>50%</th>\n",
       "      <td>61.000000</td>\n",
       "    </tr>\n",
       "    <tr>\n",
       "      <th>75%</th>\n",
       "      <td>78.000000</td>\n",
       "    </tr>\n",
       "    <tr>\n",
       "      <th>max</th>\n",
       "      <td>108.000000</td>\n",
       "    </tr>\n",
       "  </tbody>\n",
       "</table>\n",
       "</div>"
      ],
      "text/plain": [
       "               一技能\n",
       "count  1499.000000\n",
       "mean     57.216144\n",
       "std      29.227481\n",
       "min       1.000000\n",
       "25%      35.000000\n",
       "50%      61.000000\n",
       "75%      78.000000\n",
       "max     108.000000"
      ]
     },
     "execution_count": 70,
     "metadata": {},
     "output_type": "execute_result"
    }
   ],
   "source": [
    "stone[['一技能']].describe()"
   ]
  },
  {
   "cell_type": "code",
   "execution_count": 71,
   "metadata": {},
   "outputs": [
    {
     "data": {
      "image/png": "[encoded data removed]",
      "text/plain": [
       "<Figure size 3600x432 with 1 Axes>"
      ]
     },
     "metadata": {
      "needs_background": "light"
     },
     "output_type": "display_data"
    }
   ],
   "source": [
    "stone.groupby('一技能')['value'].sum()\n",
    "plt.figure(figsize = (50,6))\n",
    "plt.bar(stone[\"一技能\"].unique(),stone.groupby('一技能')['value'].sum())\n",
    "plt.xticks(fontsize=25,rotation=0)\n",
    "plt.yticks(fontsize=25)\n",
    "plt.title(\"value与一技能之间的关系\",fontsize = 30)\n",
    "plt.xlabel(\"一技能\",fontsize = 30)\n",
    "plt.ylabel(\"value为1的数量\",fontsize = 30)\n",
    "plt.show()"
   ]
  },
  {
   "cell_type": "code",
   "execution_count": 72,
   "metadata": {},
   "outputs": [
    {
     "data": {
      "text/html": [
       "<div>\n",
       "<style scoped>\n",
       "    .dataframe tbody tr th:only-of-type {\n",
       "        vertical-align: middle;\n",
       "    }\n",
       "\n",
       "    .dataframe tbody tr th {\n",
       "        vertical-align: top;\n",
       "    }\n",
       "\n",
       "    .dataframe thead th {\n",
       "        text-align: right;\n",
       "    }\n",
       "</style>\n",
       "<table border=\"1\" class=\"dataframe\">\n",
       "  <thead>\n",
       "    <tr style=\"text-align: right;\">\n",
       "      <th></th>\n",
       "      <th>二技能</th>\n",
       "    </tr>\n",
       "  </thead>\n",
       "  <tbody>\n",
       "    <tr>\n",
       "      <th>count</th>\n",
       "      <td>1499.000000</td>\n",
       "    </tr>\n",
       "    <tr>\n",
       "      <th>mean</th>\n",
       "      <td>61.923949</td>\n",
       "    </tr>\n",
       "    <tr>\n",
       "      <th>std</th>\n",
       "      <td>32.414655</td>\n",
       "    </tr>\n",
       "    <tr>\n",
       "      <th>min</th>\n",
       "      <td>1.000000</td>\n",
       "    </tr>\n",
       "    <tr>\n",
       "      <th>25%</th>\n",
       "      <td>39.000000</td>\n",
       "    </tr>\n",
       "    <tr>\n",
       "      <th>50%</th>\n",
       "      <td>63.000000</td>\n",
       "    </tr>\n",
       "    <tr>\n",
       "      <th>75%</th>\n",
       "      <td>89.000000</td>\n",
       "    </tr>\n",
       "    <tr>\n",
       "      <th>max</th>\n",
       "      <td>112.000000</td>\n",
       "    </tr>\n",
       "  </tbody>\n",
       "</table>\n",
       "</div>"
      ],
      "text/plain": [
       "               二技能\n",
       "count  1499.000000\n",
       "mean     61.923949\n",
       "std      32.414655\n",
       "min       1.000000\n",
       "25%      39.000000\n",
       "50%      63.000000\n",
       "75%      89.000000\n",
       "max     112.000000"
      ]
     },
     "execution_count": 72,
     "metadata": {},
     "output_type": "execute_result"
    }
   ],
   "source": [
    "stone[['二技能']].describe()"
   ]
  },
  {
   "cell_type": "code",
   "execution_count": 73,
   "metadata": {},
   "outputs": [
    {
     "data": {
      "image/png": "[encoded data removed]",
      "text/plain": [
       "<Figure size 3600x432 with 1 Axes>"
      ]
     },
     "metadata": {
      "needs_background": "light"
     },
     "output_type": "display_data"
    }
   ],
   "source": [
    "stone.groupby('二技能')['value'].sum()\n",
    "plt.figure(figsize = (50,6))\n",
    "plt.bar(stone[\"二技能\"].unique(),stone.groupby('二技能')['value'].sum())\n",
    "plt.xticks(fontsize=25,rotation=0)\n",
    "plt.yticks(fontsize=25)\n",
    "plt.title(\"value与二技能之间的关系\",fontsize = 30)\n",
    "plt.xlabel(\"二技能\",fontsize = 30)\n",
    "plt.ylabel(\"value为1的数量\",fontsize = 30)\n",
    "plt.show()"
   ]
  },
  {
   "cell_type": "markdown",
   "metadata": {},
   "source": [
    "孔与value的关系"
   ]
  },
  {
   "cell_type": "code",
   "execution_count": 74,
   "metadata": {},
   "outputs": [
    {
     "data": {
      "image/png": "[encoded data removed]",
      "text/plain": [
       "<Figure size 3600x432 with 1 Axes>"
      ]
     },
     "metadata": {
      "needs_background": "light"
     },
     "output_type": "display_data"
    }
   ],
   "source": [
    "stone.groupby('孔')['value'].sum()\n",
    "plt.figure(figsize = (50,6))\n",
    "plt.bar(stone[\"孔\"].unique(),stone.groupby('孔')['value'].sum())\n",
    "plt.xticks(fontsize=25,rotation=0)\n",
    "plt.yticks(fontsize=25)\n",
    "plt.title(\"value与孔之间的关系\",fontsize = 30)\n",
    "plt.xlabel(\"孔\",fontsize = 30)\n",
    "plt.ylabel(\"value为1的数量\",fontsize = 30)\n",
    "plt.show()"
   ]
  },
  {
   "cell_type": "markdown",
   "metadata": {},
   "source": []
  },
  {
   "cell_type": "markdown",
   "metadata": {},
   "source": [
    "## 包导入和训练数据的处理"
   ]
  },
  {
   "cell_type": "code",
   "execution_count": 75,
   "metadata": {},
   "outputs": [
    {
     "data": {
      "text/plain": [
       "((899, 3), (899,), (600, 3), (600,))"
      ]
     },
     "execution_count": 75,
     "metadata": {},
     "output_type": "execute_result"
    }
   ],
   "source": [
    "from sklearn.linear_model import LogisticRegression \n",
    "from sklearn import svm \n",
    "from sklearn.ensemble import RandomForestClassifier \n",
    "from sklearn.neighbors import KNeighborsClassifier \n",
    "from sklearn.naive_bayes import GaussianNB \n",
    "from sklearn.tree import DecisionTreeClassifier\n",
    "from sklearn.model_selection import train_test_split\n",
    "from sklearn import metrics \n",
    "from sklearn.metrics import confusion_matrix \n",
    "\n",
    "target = 'value'\n",
    "stone.drop(['一技能','Lv','二技能','Lv1'],axis = 1,inplace=True)\n",
    "x_columns=[x for x in stone.columns if x not in [target]]\n",
    "X = stone[x_columns]\n",
    "Y = stone['value']\n",
    "x_train,x_test,y_train,y_test=train_test_split(X,Y,test_size=0.4)\n",
    "x_train.shape,y_train.shape,x_test.shape,y_test.shape"
   ]
  },
  {
   "cell_type": "markdown",
   "metadata": {},
   "source": [
    "# 预测模型 rbf svm"
   ]
  },
  {
   "cell_type": "code",
   "execution_count": 76,
   "metadata": {},
   "outputs": [
    {
     "name": "stdout",
     "output_type": "stream",
     "text": [
      "Accuracy for rbf SVM is 0.8016666666666666\n"
     ]
    }
   ],
   "source": [
    "model=svm.SVC(kernel='rbf',C=1,gamma=0.1)\n",
    "model.fit(x_train,y_train)\n",
    "prediction1=model.predict(x_test)\n",
    "print('Accuracy for rbf SVM is',metrics.accuracy_score(prediction1,y_test))"
   ]
  },
  {
   "cell_type": "markdown",
   "metadata": {},
   "source": [
    "# 预测模型 Linear svm"
   ]
  },
  {
   "cell_type": "code",
   "execution_count": 77,
   "metadata": {},
   "outputs": [
    {
     "name": "stdout",
     "output_type": "stream",
     "text": [
      "Accuracy for linear SVM is 0.7133333333333334\n"
     ]
    }
   ],
   "source": [
    "model=svm.SVC(kernel='linear',C=0.1,gamma=0.1)\n",
    "model.fit(x_train,y_train)\n",
    "prediction2=model.predict(x_test)\n",
    "print('Accuracy for linear SVM is',metrics.accuracy_score(prediction2,y_test))"
   ]
  },
  {
   "cell_type": "markdown",
   "metadata": {},
   "source": [
    "## 预测模型 Logistic Regression"
   ]
  },
  {
   "cell_type": "code",
   "execution_count": 78,
   "metadata": {},
   "outputs": [
    {
     "name": "stdout",
     "output_type": "stream",
     "text": [
      "The accuracy of the Logistic Regression is 0.76\n"
     ]
    }
   ],
   "source": [
    "model = LogisticRegression()\n",
    "model.fit(x_train,y_train)\n",
    "prediction3=model.predict(x_test)\n",
    "print('The accuracy of the Logistic Regression is',metrics.accuracy_score(prediction3,y_test))"
   ]
  },
  {
   "cell_type": "markdown",
   "metadata": {},
   "source": [
    "## 预测模型 DecisionTree Classifier"
   ]
  },
  {
   "cell_type": "code",
   "execution_count": 79,
   "metadata": {},
   "outputs": [
    {
     "name": "stdout",
     "output_type": "stream",
     "text": [
      "The accuracy of the Decision Tree is 0.7433333333333333\n"
     ]
    }
   ],
   "source": [
    "model=DecisionTreeClassifier()\n",
    "model.fit(x_train,y_train)\n",
    "prediction4=model.predict(x_test)\n",
    "print('The accuracy of the Decision Tree is',metrics.accuracy_score(prediction4,y_test))"
   ]
  },
  {
   "cell_type": "markdown",
   "metadata": {},
   "source": [
    "## 预测模型 KNeighborsClassifier"
   ]
  },
  {
   "cell_type": "code",
   "execution_count": 80,
   "metadata": {},
   "outputs": [
    {
     "name": "stdout",
     "output_type": "stream",
     "text": [
      "The accuracy of the KNN is 0.7733333333333333\n"
     ]
    }
   ],
   "source": [
    "model=KNeighborsClassifier() \n",
    "model.fit(x_train,y_train)\n",
    "prediction5=model.predict(x_test)\n",
    "print('The accuracy of the KNN is',metrics.accuracy_score(prediction5,y_test))"
   ]
  },
  {
   "cell_type": "markdown",
   "metadata": {},
   "source": [
    "# 预测模型 KNN"
   ]
  },
  {
   "cell_type": "code",
   "execution_count": 81,
   "metadata": {},
   "outputs": [
    {
     "data": {
      "image/png": "[encoded data removed]",
      "text/plain": [
       "<Figure size 864x432 with 1 Axes>"
      ]
     },
     "metadata": {
      "needs_background": "light"
     },
     "output_type": "display_data"
    },
    {
     "name": "stdout",
     "output_type": "stream",
     "text": [
      "Accuracies for different values of n are: [0.71       0.76833333 0.76       0.76166667 0.77333333 0.775\n",
      " 0.78166667 0.78333333 0.78166667 0.785     ] \n",
      "with the max value as  0.785\n"
     ]
    }
   ],
   "source": [
    "a_index=list(range(1,11))\n",
    "a=pd.Series()\n",
    "x=[0,1,2,3,4,5,6,7,8,9,10]\n",
    "for i in list(range(1,11)):\n",
    "    model=KNeighborsClassifier(n_neighbors=i) \n",
    "    model.fit(x_train,y_train)\n",
    "    prediction=model.predict(x_test)\n",
    "    a=a.append(pd.Series(metrics.accuracy_score(prediction,y_test)))\n",
    "plt.plot(a_index, a)\n",
    "plt.xticks(x)\n",
    "fig=plt.gcf()\n",
    "fig.set_size_inches(12,6)\n",
    "plt.show()\n",
    "print('Accuracies for different values of n are:',a.values,'\\nwith the max value as ',a.values.max())"
   ]
  },
  {
   "cell_type": "markdown",
   "metadata": {},
   "source": [
    "## 预测模型 高斯"
   ]
  },
  {
   "cell_type": "code",
   "execution_count": 82,
   "metadata": {},
   "outputs": [
    {
     "name": "stdout",
     "output_type": "stream",
     "text": [
      "The accuracy of the NaiveBayes is 0.7283333333333334\n"
     ]
    }
   ],
   "source": [
    "model=GaussianNB()\n",
    "model.fit(x_train,y_train)\n",
    "prediction6=model.predict(x_test)\n",
    "print('The accuracy of the NaiveBayes is',metrics.accuracy_score(prediction6,y_test))"
   ]
  },
  {
   "cell_type": "markdown",
   "metadata": {},
   "source": [
    "## 预测模型 随机森林"
   ]
  },
  {
   "cell_type": "code",
   "execution_count": 83,
   "metadata": {},
   "outputs": [
    {
     "name": "stdout",
     "output_type": "stream",
     "text": [
      "The accuracy of the Random Forests is 0.7516666666666667\n"
     ]
    }
   ],
   "source": [
    "model=RandomForestClassifier(n_estimators=100)\n",
    "model.fit(x_train,y_train)\n",
    "prediction7=model.predict(x_test)\n",
    "print('The accuracy of the Random Forests is',metrics.accuracy_score(prediction7,y_test))"
   ]
  },
  {
   "cell_type": "markdown",
   "metadata": {},
   "source": [
    "## Cross Validation"
   ]
  },
  {
   "cell_type": "code",
   "execution_count": 84,
   "metadata": {},
   "outputs": [],
   "source": [
    "# from sklearn.model_selection import KFold #for K-fold cross validation\n",
    "# from sklearn.model_selection import cross_val_score #score evaluation\n",
    "# # from sklearn.model_selection import cross_val_predict #prediction\n",
    "# kfold = KFold(n_splits=10) # k=10, split the data into 10 equal parts\n",
    "# xyz=[]\n",
    "# accuracy=[]\n",
    "# std=[]\n",
    "\n",
    "# classifiers=['Linear Svm','Radial Svm','Logistic Regression','KNN','Decision Tree','Naive Bayes','Random Forest']\n",
    "# models=[svm.SVC(kernel='linear'),\n",
    "#         svm.SVC(kernel='rbf'),\n",
    "#         LogisticRegression(),\n",
    "#         KNeighborsClassifier(n_neighbors=9),\n",
    "#         DecisionTreeClassifier(),GaussianNB(),\n",
    "#         RandomForestClassifier(n_estimators=100)]\n",
    "# for i in models:\n",
    "#     model = i\n",
    "#     cv_result = cross_val_score(model,X,Y, cv = kfold,scoring = \"accuracy\")\n",
    "#     cv_result=cv_result\n",
    "#     xyz.append(cv_result.mean())\n",
    "#     std.append(cv_result.std())\n",
    "#     accuracy.append(cv_result)\n",
    "# new_models_dataframe2=pd.DataFrame({'CV Mean':xyz,'Std':std},index=classifiers)       \n",
    "# new_models_dataframe2"
   ]
  },
  {
   "cell_type": "code",
   "execution_count": 85,
   "metadata": {},
   "outputs": [
    {
     "data": {
      "text/plain": [
       "<AxesSubplot:>"
      ]
     },
     "execution_count": 85,
     "metadata": {},
     "output_type": "execute_result"
    },
    {
     "data": {
      "image/png": "[encoded data removed]",
      "text/plain": [
       "<Figure size 864x432 with 1 Axes>"
      ]
     },
     "metadata": {
      "needs_background": "light"
     },
     "output_type": "display_data"
    }
   ],
   "source": [
    "plt.subplots(figsize=(12,6))\n",
    "box=pd.DataFrame(accuracy,index=[classifiers])\n",
    "box.T.boxplot()"
   ]
  },
  {
   "cell_type": "code",
   "execution_count": 86,
   "metadata": {},
   "outputs": [
    {
     "ename": "NameError",
     "evalue": "name 'new_models_dataframe2' is not defined",
     "output_type": "error",
     "traceback": [
      "\u001b[0;31m---------------------------------------------------------------------------\u001b[0m",
      "\u001b[0;31mNameError\u001b[0m                                 Traceback (most recent call last)",
      "\u001b[0;32m/var/folders/sc/2kppsf2j0f75mzm7lk5b1y2r0000gn/T/ipykernel_84047/3577244746.py\u001b[0m in \u001b[0;36m<module>\u001b[0;34m\u001b[0m\n\u001b[0;32m----> 1\u001b[0;31m \u001b[0mnew_models_dataframe2\u001b[0m\u001b[0;34m[\u001b[0m\u001b[0;34m'CV Mean'\u001b[0m\u001b[0;34m]\u001b[0m\u001b[0;34m.\u001b[0m\u001b[0mplot\u001b[0m\u001b[0;34m.\u001b[0m\u001b[0mbarh\u001b[0m\u001b[0;34m(\u001b[0m\u001b[0mwidth\u001b[0m\u001b[0;34m=\u001b[0m\u001b[0;36m0.8\u001b[0m\u001b[0;34m)\u001b[0m\u001b[0;34m\u001b[0m\u001b[0;34m\u001b[0m\u001b[0m\n\u001b[0m\u001b[1;32m      2\u001b[0m \u001b[0mplt\u001b[0m\u001b[0;34m.\u001b[0m\u001b[0mtitle\u001b[0m\u001b[0;34m(\u001b[0m\u001b[0;34m'Average CV Mean Accuracy'\u001b[0m\u001b[0;34m)\u001b[0m\u001b[0;34m\u001b[0m\u001b[0;34m\u001b[0m\u001b[0m\n\u001b[1;32m      3\u001b[0m \u001b[0mfig\u001b[0m\u001b[0;34m=\u001b[0m\u001b[0mplt\u001b[0m\u001b[0;34m.\u001b[0m\u001b[0mgcf\u001b[0m\u001b[0;34m(\u001b[0m\u001b[0;34m)\u001b[0m\u001b[0;34m\u001b[0m\u001b[0;34m\u001b[0m\u001b[0m\n\u001b[1;32m      4\u001b[0m \u001b[0mfig\u001b[0m\u001b[0;34m.\u001b[0m\u001b[0mset_size_inches\u001b[0m\u001b[0;34m(\u001b[0m\u001b[0;36m8\u001b[0m\u001b[0;34m,\u001b[0m\u001b[0;36m5\u001b[0m\u001b[0;34m)\u001b[0m\u001b[0;34m\u001b[0m\u001b[0;34m\u001b[0m\u001b[0m\n\u001b[1;32m      5\u001b[0m \u001b[0mplt\u001b[0m\u001b[0;34m.\u001b[0m\u001b[0mshow\u001b[0m\u001b[0;34m(\u001b[0m\u001b[0;34m)\u001b[0m\u001b[0;34m\u001b[0m\u001b[0;34m\u001b[0m\u001b[0m\n",
      "\u001b[0;31mNameError\u001b[0m: name 'new_models_dataframe2' is not defined"
     ]
    }
   ],
   "source": [
    "new_models_dataframe2['CV Mean'].plot.barh(width=0.8)\n",
    "plt.title('Average CV Mean Accuracy')\n",
    "fig=plt.gcf()\n",
    "fig.set_size_inches(8,5)\n",
    "plt.show()"
   ]
  },
  {
   "cell_type": "code",
   "execution_count": null,
   "metadata": {},
   "outputs": [
    {
     "data": {
      "image/png": "[encoded data removed]",
      "text/plain": [
       "<Figure size 864x720 with 16 Axes>"
      ]
     },
     "metadata": {
      "needs_background": "light"
     },
     "output_type": "display_data"
    }
   ],
   "source": [
    "# from sklearn.model_selection import cross_val_predict\n",
    "# f,ax=plt.subplots(3,3,figsize=(12,10))\n",
    "# y_pred = cross_val_predict(svm.SVC(kernel='rbf'),X,Y,cv=10)\n",
    "# sns.heatmap(confusion_matrix(Y,y_pred),ax=ax[0,0],annot=True,fmt='2.0f',cmap='coolwarm')\n",
    "# ax[0,0].set_title('Matrix for rbf-SVM')\n",
    "# y_pred = cross_val_predict(svm.SVC(kernel='linear'),X,Y,cv=10)\n",
    "# sns.heatmap(confusion_matrix(Y,y_pred),ax=ax[0,1],annot=True,fmt='2.0f',cmap='coolwarm')\n",
    "# ax[0,1].set_title('Matrix for Linear-SVM')\n",
    "# y_pred = cross_val_predict(KNeighborsClassifier(n_neighbors=9),X,Y,cv=10)\n",
    "# sns.heatmap(confusion_matrix(Y,y_pred),ax=ax[0,2],annot=True,fmt='2.0f',cmap='coolwarm')\n",
    "# ax[0,2].set_title('Matrix for KNN')\n",
    "# y_pred = cross_val_predict(RandomForestClassifier(n_estimators=100),X,Y,cv=10)\n",
    "# sns.heatmap(confusion_matrix(Y,y_pred),ax=ax[1,0],annot=True,fmt='2.0f',cmap='coolwarm')\n",
    "# ax[1,0].set_title('Matrix for Random-Forests')\n",
    "# y_pred = cross_val_predict(LogisticRegression(),X,Y,cv=10)\n",
    "# sns.heatmap(confusion_matrix(Y,y_pred),ax=ax[1,1],annot=True,fmt='2.0f',cmap='coolwarm')\n",
    "# ax[1,1].set_title('Matrix for Logistic Regression')\n",
    "# y_pred = cross_val_predict(DecisionTreeClassifier(),X,Y,cv=10)\n",
    "# sns.heatmap(confusion_matrix(Y,y_pred),ax=ax[1,2],annot=True,fmt='2.0f',cmap='coolwarm')\n",
    "# ax[1,2].set_title('Matrix for Decision Tree')\n",
    "# y_pred = cross_val_predict(GaussianNB(),X,Y,cv=10)\n",
    "# sns.heatmap(confusion_matrix(Y,y_pred),ax=ax[2,0],annot=True,fmt='2.0f',cmap='coolwarm')\n",
    "# ax[2,0].set_title('Matrix for Naive Bayes')\n",
    "# plt.subplots_adjust(hspace=0.3,wspace=0.5)\n",
    "# plt.show()"
   ]
  },
  {
   "cell_type": "code",
   "execution_count": null,
   "metadata": {},
   "outputs": [],
   "source": [
    "model=KNeighborsClassifier(n_neighbors=4) \n",
    "model.fit(x_train,y_train)\n",
    "prediction=model.predict(x_test)\n",
    "metrics.accuracy_score(prediction,y_test)\n",
    "\n",
    "import joblib\n",
    "\n",
    "joblib.dump(model, 'knn.model')\n",
    "knn = joblib.load('knn.model')\n",
    "\n",
    "model=svm.SVC(kernel='rbf',C=1,gamma=0.1)\n",
    "model.fit(x_train,y_train)\n",
    "joblib.dump(model, 'rbf.model')\n",
    "rbf = joblib.load('knn.model')\n"
   ]
  }
 ],
 "metadata": {
  "interpreter": {
   "hash": "36bc871987b263becf5d2db01c0cab90f45da526e4522ff2e0a513b58fb5e03b"
  },
  "kernelspec": {
   "display_name": "Python 3",
   "language": "python",
   "name": "python3"
  },
  "language_info": {
   "codemirror_mode": {
    "name": "ipython",
    "version": 3
   },
   "file_extension": ".py",
   "mimetype": "text/x-python",
   "name": "python",
   "nbconvert_exporter": "python",
   "pygments_lexer": "ipython3",
   "version": "3.9.7"
  }
 },
 "nbformat": 4,
 "nbformat_minor": 2
}
